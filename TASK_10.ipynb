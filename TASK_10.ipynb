{
  "nbformat": 4,
  "nbformat_minor": 0,
  "metadata": {
    "colab": {
      "provenance": [],
      "authorship_tag": "ABX9TyOJ785sEjWDOcZkbwdupn+g",
      "include_colab_link": true
    },
    "kernelspec": {
      "name": "python3",
      "display_name": "Python 3"
    },
    "language_info": {
      "name": "python"
    }
  },
  "cells": [
    {
      "cell_type": "markdown",
      "metadata": {
        "id": "view-in-github",
        "colab_type": "text"
      },
      "source": [
        "<a href=\"https://colab.research.google.com/github/vtu28288-droid/A.v.n.keerthan/blob/main/TASK_10.ipynb\" target=\"_parent\"><img src=\"https://colab.research.google.com/assets/colab-badge.svg\" alt=\"Open In Colab\"/></a>"
      ]
    },
    {
      "cell_type": "code",
      "execution_count": null,
      "metadata": {
        "id": "Lp-h74ZHMPh5"
      },
      "outputs": [],
      "source": [
        "# pip install matplotlib\n",
        "import matplotlib.pyplot as plt\n",
        "\n",
        "languages = ['Java', 'Python', 'PHP', 'JavaScript', 'C#', 'C++']\n",
        "popularity = [22.2, 17.6, 8.8, 8, 7.7, 6.7]\n",
        "\n",
        "plt.bar(languages, popularity, color='b')\n",
        "plt.title('Popularity of Programming Languages')\n",
        "plt.xlabel('Programming Languages')\n",
        "plt.ylabel('Popularity')\n",
        "plt.show()\n"
      ]
    },
    {
      "cell_type": "code",
      "source": [
        "import matplotlib.pyplot as plt\n",
        "\n",
        "languages = ['Java', 'Python', 'PHP', 'JavaScript', 'C#', 'C++']\n",
        "popularity = [22.2, 17.6, 8.8, 8, 7.7, 6.7]\n",
        "\n",
        "plt.pie(popularity, labels=languages, autopct='%1.1f%%')\n",
        "plt.title('Popularity of Programming Languages')\n",
        "plt.legend(languages, loc=\"best\")\n",
        "plt.show()\n"
      ],
      "metadata": {
        "id": "Eq7iRSkqMVhl"
      },
      "execution_count": null,
      "outputs": []
    },
    {
      "cell_type": "code",
      "source": [
        "import pandas as pd\n",
        "import matplotlib.pyplot as plt\n",
        "\n",
        "# Read CSV\n",
        "df = pd.read_csv(\"students.csv\")\n",
        "\n",
        "# x-axis = student names\n",
        "x = df[\"Name\"]\n",
        "\n",
        "# Plot each test as a separate line\n",
        "plt.plot(x, df[\"Test1\"], marker='s', label=\"Test1\")\n",
        "plt.plot(x, df[\"Test2\"], marker='o', label=\"Test2\")\n",
        "plt.plot(x, df[\"Test3\"], marker='*', label=\"Test3\")\n",
        "plt.plot(x, df[\"Test4\"], marker='x', label=\"Test4\")\n",
        "\n",
        "plt.ylabel(\"Marks\")\n",
        "plt.title(\"Student Marks Across Tests\")\n",
        "plt.legend()\n",
        "plt.show()\n"
      ],
      "metadata": {
        "id": "QO4Ms6PPMX-n"
      },
      "execution_count": null,
      "outputs": []
    },
    {
      "cell_type": "code",
      "source": [],
      "metadata": {
        "id": "SNIp_qlSMbrs"
      },
      "execution_count": null,
      "outputs": []
    }
  ]
}