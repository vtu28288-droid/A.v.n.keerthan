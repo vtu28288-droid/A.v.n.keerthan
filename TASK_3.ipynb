{
  "nbformat": 4,
  "nbformat_minor": 0,
  "metadata": {
    "colab": {
      "provenance": [],
      "authorship_tag": "ABX9TyNMenBNu+HS6dh7xQrD8PCP",
      "include_colab_link": true
    },
    "kernelspec": {
      "name": "python3",
      "display_name": "Python 3"
    },
    "language_info": {
      "name": "python"
    }
  },
  "cells": [
    {
      "cell_type": "markdown",
      "metadata": {
        "id": "view-in-github",
        "colab_type": "text"
      },
      "source": [
        "<a href=\"https://colab.research.google.com/github/vtu28288-droid/A.v.n.keerthan/blob/main/TASK_3.ipynb\" target=\"_parent\"><img src=\"https://colab.research.google.com/assets/colab-badge.svg\" alt=\"Open In Colab\"/></a>"
      ]
    },
    {
      "cell_type": "code",
      "execution_count": null,
      "metadata": {
        "id": "TEoorGtZIrbp"
      },
      "outputs": [],
      "source": [
        "from collections import OrderedDict\n",
        "def kthRepeating(input, k):\n",
        "    dict = OrderedDict.fromkeys(input, 0)\n",
        "    for ch in input:\n",
        "        dict[ch] += 1\n",
        "    nonRepeatDict = [key for (key, value) in dict.items() if value == 1]\n",
        "    if len(nonRepeatDict) < k:\n",
        "        return 'Less than k non-repeating characters in input.'\n",
        "    else:\n",
        "        return nonRepeatDict[k - 1]\n",
        "inp = input()\n",
        "k = int(input())\n",
        "print(kthRepeating(inp, k))\n"
      ]
    },
    {
      "cell_type": "code",
      "source": [
        "import math\n",
        "def cosine(x, n):\n",
        "    cosx = 1\n",
        "    sign = -1\n",
        "    for i in range(2, n, 2):\n",
        "        pi = 22 / 7\n",
        "        y = x * (pi / 180)\n",
        "        cosx = cosx + (sign * (y ** i)) / math.factorial(i)\n",
        "        sign = -sign\n",
        "    return cosx\n",
        "x = int(input())\n",
        "n = int(input())\n",
        "print(round(cosine(x, n), 2))\n"
      ],
      "metadata": {
        "id": "6vPjn1a5I5oa"
      },
      "execution_count": null,
      "outputs": []
    },
    {
      "cell_type": "code",
      "source": [
        "# ///Modular Python Application (3 files)\n",
        "# students.csv\n",
        "# Name,Age,Math,Science,English\n",
        "# Alice,20,85,78,92\n",
        "# Bob,21,90,88,84\n",
        "# Charlie,20,72,65,70\n",
        "# David,22,95,92,96\n",
        "# Eva,21,88,90,85///\n",
        "\n",
        "# dataloader.py\n",
        "# import pandas as pd\n",
        "# def load_data():\n",
        "    # df = pd.read_csv(\"students.csv\")\n",
        "    # return df\n",
        "\n",
        "# statshelper.py\n",
        "# import numpy as np\n",
        "# from scipy import stats\n",
        "# def subject_mean(df, subject):\n",
        "    # return np.mean(df[subject])\n",
        "# def subject_std(df, subject):\n",
        "    # return np.std(df[subject])\n",
        "# def subject_mode(df, subject):\n",
        "    # return stats.mode(df[subject], keepdims=True).mode[0]\n",
        "\n",
        "# main.py\n",
        "from dataloader import load_data\n",
        "from statshelper import subject_mean, subject_std, subject_mode\n",
        "import pandas as pd\n",
        "df = load_data()\n",
        "subjects = [\"Math\", \"Science\", \"English\"]\n",
        "results = []\n",
        "for subj in subjects:\n",
        "    mean_val = subject_mean(df, subj)\n",
        "    std_val = subject_std(df, subj)\n",
        "    mode_val = subject_mode(df, subj)\n",
        "    results.append([subj, mean_val, std_val, mode_val])\n",
        "results_df = pd.DataFrame(results, columns=[\"Subject\", \"Mean\", \"Standard Deviation\", \"Mode\"])\n",
        "print(results_df)"
      ],
      "metadata": {
        "id": "9eXPEYLDI80i"
      },
      "execution_count": null,
      "outputs": []
    },
    {
      "cell_type": "code",
      "source": [
        "import pandas as pd\n",
        "import numpy as np\n",
        "data = pd.DataFrame({\n",
        "    'Product': ['Laptop', 'Headphones', 'Mouse', 'Keyboard'] * 5,\n",
        "    'Units_Sold': np.random.randint(5, 50, 20),\n",
        "    'Price_per_Unit': np.random.randint(1000, 5000, 20)\n",
        "})\n",
        "data['Total_Sales'] = data['Units_Sold'] * data['Price_per_Unit']\n",
        "top_product = data.groupby('Product')['Total_Sales'].sum().idxmax()\n",
        "total_sales = data['Total_Sales'].sum()\n",
        "print(\"Top Selling Product:\", top_product)\n",
        "print(\"Total Sales: ₹\", total_sales)\n",
        "print(\"\\nSample Data:\\n\", data)\n"
      ],
      "metadata": {
        "id": "-j9WnqvSJAeo"
      },
      "execution_count": null,
      "outputs": []
    }
  ]
}