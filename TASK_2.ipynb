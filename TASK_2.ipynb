{
  "nbformat": 4,
  "nbformat_minor": 0,
  "metadata": {
    "colab": {
      "provenance": [],
      "authorship_tag": "ABX9TyMgRINHIXgBSSmUJXhMBRnu",
      "include_colab_link": true
    },
    "kernelspec": {
      "name": "python3",
      "display_name": "Python 3"
    },
    "language_info": {
      "name": "python"
    }
  },
  "cells": [
    {
      "cell_type": "markdown",
      "metadata": {
        "id": "view-in-github",
        "colab_type": "text"
      },
      "source": [
        "<a href=\"https://colab.research.google.com/github/vtu28288-droid/A.v.n.keerthan/blob/main/TASK_2.ipynb\" target=\"_parent\"><img src=\"https://colab.research.google.com/assets/colab-badge.svg\" alt=\"Open In Colab\"/></a>"
      ]
    },
    {
      "cell_type": "code",
      "execution_count": null,
      "metadata": {
        "id": "gjxi2q3jHRWh"
      },
      "outputs": [],
      "source": []
    },
    {
      "cell_type": "code",
      "source": [],
      "metadata": {
        "id": "K11QzzeZHYu6"
      },
      "execution_count": null,
      "outputs": []
    },
    {
      "cell_type": "code",
      "source": [
        "score = int(input(\"Enter the student's score: \"))\n",
        "if score >= 90:\n",
        "    print(\"The grade is: A\")\n",
        "elif score >= 80:\n",
        "    print(\"The grade is: B\")\n",
        "elif score >= 70:\n",
        "    print(\"The grade is: C\")\n",
        "elif score >= 60:\n",
        "    print(\"The grade is: D\")\n",
        "else:\n",
        "    print(\"The grade is: F\")\n"
      ],
      "metadata": {
        "id": "YIyq-AL1HY6Y"
      },
      "execution_count": null,
      "outputs": []
    },
    {
      "cell_type": "code",
      "source": [
        "print(\"The first 10 natural numbers are:\")\n",
        "for i in range(1, 11):\n",
        "    print(i)\n",
        "\n"
      ],
      "metadata": {
        "id": "0jbYljL-Hfjn"
      },
      "execution_count": null,
      "outputs": []
    },
    {
      "cell_type": "code",
      "source": [
        "x = input()\n",
        "c = 0\n",
        "for i in x:\n",
        "    if ord(i) >= 65 and ord(i) <= 90:\n",
        "        c += 1\n",
        "print(c + 1)\n"
      ],
      "metadata": {
        "id": "iOL3yiP6Hkti"
      },
      "execution_count": null,
      "outputs": []
    },
    {
      "cell_type": "code",
      "source": [
        "a = int(input())\n",
        "p = 0\n",
        "b = a\n",
        "while b > 0:\n",
        "    r = b % 10\n",
        "    p = p * 10 + r\n",
        "    b = b // 10\n",
        "if p == a:\n",
        "    print(\"Mirror\")\n",
        "else:\n",
        "    print(\"No Mirror\")\n"
      ],
      "metadata": {
        "id": "A8XKV2ruHn30"
      },
      "execution_count": null,
      "outputs": []
    }
  ]
}