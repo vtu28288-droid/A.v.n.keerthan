{
  "nbformat": 4,
  "nbformat_minor": 0,
  "metadata": {
    "colab": {
      "provenance": [],
      "authorship_tag": "ABX9TyPwMQ3gL9tXPozUt7lUn75B",
      "include_colab_link": true
    },
    "kernelspec": {
      "name": "python3",
      "display_name": "Python 3"
    },
    "language_info": {
      "name": "python"
    }
  },
  "cells": [
    {
      "cell_type": "markdown",
      "metadata": {
        "id": "view-in-github",
        "colab_type": "text"
      },
      "source": [
        "<a href=\"https://colab.research.google.com/github/vtu28288-droid/A.v.n.keerthan/blob/main/TASK_11.ipynb\" target=\"_parent\"><img src=\"https://colab.research.google.com/assets/colab-badge.svg\" alt=\"Open In Colab\"/></a>"
      ]
    },
    {
      "cell_type": "code",
      "execution_count": null,
      "metadata": {
        "id": "5eGJvOZ0Mkz8"
      },
      "outputs": [],
      "source": [
        "# Recursive function to find factorial\n",
        "def factorial(n):\n",
        "    if n == 0 or n == 1:     # Base case\n",
        "        return 1\n",
        "    else:                    # Recursive case\n",
        "        return n * factorial(n - 1)\n",
        "\n",
        "# Input\n",
        "num = 5\n",
        "\n",
        "# Function call and output\n",
        "print(\"Factorial of\", num, \"is:\", factorial(num))\n"
      ]
    },
    {
      "cell_type": "code",
      "source": [
        "# Recursive function to find factorial\n",
        "def factorial(n):\n",
        "    if n == 0 or n == 1:     # Base case\n",
        "        return 1\n",
        "    else:                    # Recursive case\n",
        "        return n * factorial(n - 1)\n",
        "\n",
        "# Input\n",
        "num = 5\n",
        "\n",
        "# Function call and output\n",
        "print(\"Factorial of\", num, \"is:\", factorial(num))\n"
      ],
      "metadata": {
        "id": "oFA8F8vtNmhh"
      },
      "execution_count": null,
      "outputs": []
    },
    {
      "cell_type": "code",
      "source": [],
      "metadata": {
        "id": "K4Krg0VcNqFw"
      },
      "execution_count": null,
      "outputs": []
    }
  ]
}