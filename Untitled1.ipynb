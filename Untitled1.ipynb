{
  "nbformat": 4,
  "nbformat_minor": 0,
  "metadata": {
    "colab": {
      "provenance": [],
      "authorship_tag": "ABX9TyP1us1guhNPwjGT3KKFUjA8",
      "include_colab_link": true
    },
    "kernelspec": {
      "name": "python3",
      "display_name": "Python 3"
    },
    "language_info": {
      "name": "python"
    }
  },
  "cells": [
    {
      "cell_type": "markdown",
      "metadata": {
        "id": "view-in-github",
        "colab_type": "text"
      },
      "source": [
        "<a href=\"https://colab.research.google.com/github/vtu28288-droid/A.v.n.keerthan/blob/main/Untitled1.ipynb\" target=\"_parent\"><img src=\"https://colab.research.google.com/assets/colab-badge.svg\" alt=\"Open In Colab\"/></a>"
      ]
    },
    {
      "cell_type": "code",
      "execution_count": 1,
      "metadata": {
        "colab": {
          "base_uri": "https://localhost:8080/"
        },
        "id": "wq5V8WLgCWAV",
        "outputId": "d194055c-4b81-46e6-8e50-9208f2a1740a"
      },
      "outputs": [
        {
          "output_type": "stream",
          "name": "stdout",
          "text": [
            "enter total number of loaves per day\n",
            "12\n",
            "Regular Price  2220\n",
            "Total Discount  1332.0\n",
            "Total Amount to be paid  888.0\n"
          ]
        }
      ],
      "source": [
        "a = int(input(\"enter total number of loaves per day\\n\"))\n",
        "r = 185 * a\n",
        "d = 0.6 * r\n",
        "t = 0.4 * r\n",
        "print(\"Regular Price \", r)\n",
        "print(\"Total Discount \", d)\n",
        "print(\"Total Amount to be paid \", t)\n"
      ]
    },
    {
      "cell_type": "code",
      "source": [
        "cls = float(input(\"Enter temperature in Celsius: \"))\n",
        "fah = (cls * 1.8) + 32\n",
        "print(\"%0.1f degrees Celsius is equal to %0.1f degrees Fahrenheit.\" % (cls, fah))\n"
      ],
      "metadata": {
        "colab": {
          "base_uri": "https://localhost:8080/"
        },
        "id": "xKaMinAaGHKM",
        "outputId": "c744b288-503d-4961-f4c9-fd2300c4d9a5"
      },
      "execution_count": 2,
      "outputs": [
        {
          "output_type": "stream",
          "name": "stdout",
          "text": [
            "Enter temperature in Celsius: 14\n",
            "14.0 degrees Celsius is equal to 57.2 degrees Fahrenheit.\n"
          ]
        }
      ]
    },
    {
      "cell_type": "code",
      "source": [
        "import math\n",
        "def distance(x1, y1, z1, x2, y2, z2):\n",
        "    d = math.sqrt((x2 - x1)**2 + (y2 - y1)**2 + (z2 - z1)**2)\n",
        "    print(\"Distance is\", d)\n",
        "x1 = float(input(\"Enter the X1-coordinate: \"))\n",
        "y1 = float(input(\"Enter the Y1-coordinate: \"))\n",
        "z1 = float(input(\"Enter the Z1-coordinate: \"))\n",
        "x2 = float(input(\"Enter the X2-coordinate: \"))\n",
        "y2 = float(input(\"Enter the Y2-coordinate: \"))\n",
        "z2 = float(input(\"Enter the Z2-coordinate: \"))\n",
        "distance(x1, y1, z1, x2, y2, z2)\n"
      ],
      "metadata": {
        "id": "SEANfDRPGlb1"
      },
      "execution_count": null,
      "outputs": []
    },
    {
      "cell_type": "code",
      "source": [
        "import math\n",
        "def equationroots(x, y, z):\n",
        "    discri = y * y - 4 * x * z\n",
        "    sqrtval = math.sqrt(abs(discri))\n",
        "    if discri > 0:\n",
        "        print(\"Roots are real and different\")\n",
        "        print((-y + sqrtval) / (2 * x))\n",
        "        print((-y - sqrtval) / (2 * x))\n",
        "    elif discri == 0:\n",
        "        print(\"Roots are real and same\")\n",
        "        print(-y / (2 * x))\n",
        "    else:\n",
        "        print(\"Roots are complex\")\n",
        "        print(-y / (2 * x), \"+ i\", sqrtval)\n",
        "        print(-y / (2 * x), \"- i\", sqrtval)\n",
        "x = int(input(\"Enter a: \"))\n",
        "y = int(input(\"Enter b: \"))\n",
        "z = int(input(\"Enter c: \"))\n",
        "if x == 0:\n",
        "    print(\"Input correct quadratic equation\")\n",
        "else:\n",
        "    equationroots(x, y, z)\n"
      ],
      "metadata": {
        "id": "9NgrcjCwGxto"
      },
      "execution_count": null,
      "outputs": []
    },
    {
      "cell_type": "code",
      "source": [],
      "metadata": {
        "id": "8di9Zq9hG2s5"
      },
      "execution_count": null,
      "outputs": []
    }
  ]
}