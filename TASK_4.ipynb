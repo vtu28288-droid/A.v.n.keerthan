{
  "nbformat": 4,
  "nbformat_minor": 0,
  "metadata": {
    "colab": {
      "provenance": [],
      "authorship_tag": "ABX9TyPiQJI+xowhjqyrNHFfh7++",
      "include_colab_link": true
    },
    "kernelspec": {
      "name": "python3",
      "display_name": "Python 3"
    },
    "language_info": {
      "name": "python"
    }
  },
  "cells": [
    {
      "cell_type": "markdown",
      "metadata": {
        "id": "view-in-github",
        "colab_type": "text"
      },
      "source": [
        "<a href=\"https://colab.research.google.com/github/vtu28288-droid/A.v.n.keerthan/blob/main/TASK_4.ipynb\" target=\"_parent\"><img src=\"https://colab.research.google.com/assets/colab-badge.svg\" alt=\"Open In Colab\"/></a>"
      ]
    },
    {
      "cell_type": "code",
      "execution_count": null,
      "metadata": {
        "id": "A8SVMTBoJPw2"
      },
      "outputs": [],
      "source": [
        "list = [10, 20]\n",
        "a = 30\n",
        "list.append(a)\n",
        "print(list)\n",
        "\n",
        "list.pop(1)\n",
        "print(list)\n",
        "list.remove(10)\n",
        "print(list)\n",
        "\n",
        "l = [5, 8, 9, 15, 30, 89]\n",
        "print(sorted(l))\n",
        "print(\"The minimum value is:\", min(l))\n",
        "print(\"The maximum value is:\", max(l))\n",
        "print(\"The sum is:\", sum(l))\n",
        "print(\"The average is:\", (sum(l) / len(l)))\n"
      ]
    },
    {
      "cell_type": "code",
      "source": [
        "tuple1 = (10, 'hello', 3.14, 'world')\n",
        "print(tuple1)\n",
        "\n",
        "for i in tuple1:\n",
        "    print(i)\n",
        "\n",
        "print(tuple1[1:3])\n",
        "print(tuple1[:-1])\n",
        "\n",
        "t2 = (5, 0.5)\n",
        "t3 = tuple1 + t2\n",
        "print(t3)\n",
        "\n",
        "try:\n",
        "    tuple1[3] = \"PI\"\n",
        "except TypeError as e:\n",
        "    print(\"Error:\", e)\n"
      ],
      "metadata": {
        "id": "3JBWa1MiJb_v"
      },
      "execution_count": null,
      "outputs": []
    },
    {
      "cell_type": "code",
      "source": [
        "dictionary = {'name': 'Alice', 'age': 30, 'city': 'New York'}\n",
        "print(dictionary)\n",
        "\n",
        "print(dictionary['name'])\n",
        "print(dictionary['age'])\n",
        "\n",
        "dictionary['name'] = \"James\"\n",
        "print(dictionary)\n",
        "dictionary.pop('city')\n",
        "print(dictionary)\n",
        "\n",
        "for k in dictionary:\n",
        "    print(\"KEY:\", k)\n",
        "\n",
        "print(dictionary.items())\n"
      ],
      "metadata": {
        "id": "q7x_bG8qJepS"
      },
      "execution_count": null,
      "outputs": []
    }
  ]
}