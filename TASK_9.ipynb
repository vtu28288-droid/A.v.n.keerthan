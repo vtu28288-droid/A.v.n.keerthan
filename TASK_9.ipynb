{
  "nbformat": 4,
  "nbformat_minor": 0,
  "metadata": {
    "colab": {
      "provenance": [],
      "authorship_tag": "ABX9TyOGe1JS3kOykQYnrNHLED4e",
      "include_colab_link": true
    },
    "kernelspec": {
      "name": "python3",
      "display_name": "Python 3"
    },
    "language_info": {
      "name": "python"
    }
  },
  "cells": [
    {
      "cell_type": "markdown",
      "metadata": {
        "id": "view-in-github",
        "colab_type": "text"
      },
      "source": [
        "<a href=\"https://colab.research.google.com/github/vtu28288-droid/A.v.n.keerthan/blob/main/TASK_9.ipynb\" target=\"_parent\"><img src=\"https://colab.research.google.com/assets/colab-badge.svg\" alt=\"Open In Colab\"/></a>"
      ]
    },
    {
      "cell_type": "code",
      "execution_count": null,
      "metadata": {
        "id": "a8VZNfegLo8P"
      },
      "outputs": [],
      "source": [
        "# Initialize the list of grades\n",
        "grades = [85, 90, 78, 92, 88]\n",
        "\n",
        "# Display the grades list\n",
        "print(\"Grades List:\", grades)\n",
        "\n",
        "# Prompt the user to enter the index of the grade they want to view\n",
        "try:\n",
        "    index = int(input(\"Enter the index of the grade you want to view: \"))\n",
        "    # Attempt to display the grade at the specified index\n",
        "    print(f\"The grade at index {index} is: {grades[index]}\")\n",
        "except IndexError:\n",
        "    # Handle the case where the index is out of range\n",
        "    print(\"Invalid index. Please enter a valid index.\")\n",
        "except ValueError:\n",
        "    # Handle the case where the input is not an integer\n",
        "    print(\"Invalid input. Please enter a numerical index.\")\n"
      ]
    },
    {
      "cell_type": "code",
      "source": [
        "# Custom Exception\n",
        "class NegativeNumberError(Exception):\n",
        "    pass\n",
        "\n",
        "try:\n",
        "    # Take user input\n",
        "    num1 = int(input(\"Enter the numerator: \"))\n",
        "    num2 = int(input(\"Enter the denominator: \"))\n",
        "\n",
        "    # Check for negative numbers\n",
        "    if num1 < 0 or num2 < 0:\n",
        "        raise NegativeNumberError(\"Negative numbers are not allowed\")\n",
        "\n",
        "    # Perform division\n",
        "    result = num1 / num2\n",
        "    print(f\"Result: {num1} / {num2} = {result}\")\n",
        "\n",
        "except ValueError:\n",
        "    print(\"Error: Please enter valid numeric values.\")\n",
        "except ZeroDivisionError:\n",
        "    print(\"Error: Division by zero is not allowed.\")\n",
        "except NegativeNumberError as e:\n",
        "    print(f\"Error: {e}\")\n",
        "finally:\n",
        "    print(\"Calculation Attempt Finished\")\n"
      ],
      "metadata": {
        "id": "OCHfgHQ1Lvp8"
      },
      "execution_count": null,
      "outputs": []
    },
    {
      "cell_type": "code",
      "source": [
        "try:\n",
        "    # Attempt to open and read a file\n",
        "    with open(\"non_existent_file.txt\", \"r\") as file:\n",
        "        content = file.read()\n",
        "        print(\"File content:\", content)\n",
        "except FileNotFoundError:\n",
        "    # Handle the case where the file does not exist\n",
        "    print(\"Error: The file was not found.\")\n",
        "except Exception as e:\n",
        "    # Handle any other potential exceptions\n",
        "    print(f\"An unexpected error occurred: {e}\")\n",
        "\n",
        "print(\"File operation attempt finished.\")"
      ],
      "metadata": {
        "id": "SNPnXlW8LzS-"
      },
      "execution_count": null,
      "outputs": []
    },
    {
      "cell_type": "code",
      "source": [],
      "metadata": {
        "id": "ademQzpSMEd2"
      },
      "execution_count": null,
      "outputs": []
    }
  ]
}