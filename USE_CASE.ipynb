{
  "nbformat": 4,
  "nbformat_minor": 0,
  "metadata": {
    "colab": {
      "provenance": [],
      "authorship_tag": "ABX9TyMij6G4644W62WiKkTQIqfp",
      "include_colab_link": true
    },
    "kernelspec": {
      "name": "python3",
      "display_name": "Python 3"
    },
    "language_info": {
      "name": "python"
    }
  },
  "cells": [
    {
      "cell_type": "markdown",
      "metadata": {
        "id": "view-in-github",
        "colab_type": "text"
      },
      "source": [
        "<a href=\"https://colab.research.google.com/github/vtu28288-droid/A.v.n.keerthan/blob/main/USE_CASE.ipynb\" target=\"_parent\"><img src=\"https://colab.research.google.com/assets/colab-badge.svg\" alt=\"Open In Colab\"/></a>"
      ]
    },
    {
      "cell_type": "code",
      "execution_count": null,
      "metadata": {
        "id": "9XzqeccQOj3X"
      },
      "outputs": [],
      "source": [
        "def max_score(cards, i, j, memo):\n",
        "    if i > j:\n",
        "        return 0\n",
        "    if (i, j) in memo:\n",
        "        return memo[(i, j)]\n",
        "\n",
        "    # Choose the first card\n",
        "    pick_first = cards[i] + min(\n",
        "        max_score(cards, i+2, j, memo),   # Opponent picks i+1\n",
        "        max_score(cards, i+1, j-1, memo)  # Opponent picks j\n",
        "    )\n",
        "    # Choose the last card\n",
        "    pick_last = cards[j] + min(\n",
        "        max_score(cards, i+1, j-1, memo),  # Opponent picks i\n",
        "        max_score(cards, i, j-2, memo)     # Opponent picks j-1\n",
        "    )\n",
        "\n",
        "    memo[(i, j)] = max(pick_first, pick_last)\n",
        "    return memo[(i, j)]\n",
        "\n",
        "# Example usage\n",
        "cards = [3, 9, 1, 2]\n",
        "memo = {}\n",
        "max_points = max_score(cards, 0, len(cards)-1, memo)\n",
        "\n",
        "print(\"Card sequence:\", cards)\n",
        "print(\"Maximum points player 1 can achieve:\", max_points)\n"
      ]
    }
  ]
}